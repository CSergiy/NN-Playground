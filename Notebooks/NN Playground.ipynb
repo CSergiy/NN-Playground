{
 "cells": [
  {
   "cell_type": "markdown",
   "id": "98030d3c",
   "metadata": {},
   "source": [
    "# NN Playground"
   ]
  },
  {
   "cell_type": "markdown",
   "id": "d1cef344",
   "metadata": {},
   "source": [
    "This notebook will be testing out variations on different neural networks, utilizing various forms of cells/nodes."
   ]
  },
  {
   "cell_type": "markdown",
   "id": "c951cbb3",
   "metadata": {},
   "source": [
    "Cell types include:\n",
    "-Backfed input Cell\n",
    "-Input Cell\n",
    "-Noisy Input Cell"
   ]
  },
  {
   "cell_type": "code",
   "execution_count": null,
   "id": "f2678edc",
   "metadata": {},
   "outputs": [],
   "source": []
  },
  {
   "cell_type": "code",
   "execution_count": null,
   "id": "0495dbb9",
   "metadata": {},
   "outputs": [],
   "source": []
  },
  {
   "cell_type": "code",
   "execution_count": null,
   "id": "e83688fd",
   "metadata": {},
   "outputs": [],
   "source": []
  }
 ],
 "metadata": {
  "kernelspec": {
   "display_name": "Python 3 (ipykernel)",
   "language": "python",
   "name": "python3"
  },
  "language_info": {
   "codemirror_mode": {
    "name": "ipython",
    "version": 3
   },
   "file_extension": ".py",
   "mimetype": "text/x-python",
   "name": "python",
   "nbconvert_exporter": "python",
   "pygments_lexer": "ipython3",
   "version": "3.10.9"
  },
  "toc": {
   "base_numbering": 1,
   "nav_menu": {},
   "number_sections": true,
   "sideBar": true,
   "skip_h1_title": false,
   "title_cell": "Table of Contents",
   "title_sidebar": "Contents",
   "toc_cell": false,
   "toc_position": {},
   "toc_section_display": true,
   "toc_window_display": false
  }
 },
 "nbformat": 4,
 "nbformat_minor": 5
}
